{
 "cells": [
  {
   "cell_type": "markdown",
   "metadata": {},
   "source": [
    "# SDM + PW\n",
    "Single-diode model with the Photowatt-PWP201 dataset."
   ]
  },
  {
   "cell_type": "code",
   "execution_count": 11,
   "metadata": {},
   "outputs": [],
   "source": [
    "using PSO\n",
    "using CUDA, Random"
   ]
  },
  {
   "cell_type": "code",
   "execution_count": 12,
   "metadata": {},
   "outputs": [
    {
     "data": {
      "text/plain": "benchmark (generic function with 1 method)"
     },
     "execution_count": 12,
     "metadata": {},
     "output_type": "execute_result"
    }
   ],
   "source": [
    "const data_dir = \"../data/\"\n",
    "include(\"utils.jl\")"
   ]
  },
  {
   "cell_type": "code",
   "execution_count": 13,
   "metadata": {},
   "outputs": [],
   "source": [
    "# set random seed: for reproduction\n",
    "Random.seed!(CURAND.default_rng(), 123)"
   ]
  },
  {
   "cell_type": "markdown",
   "metadata": {},
   "source": [
    "## Read data and set up search range"
   ]
  },
  {
   "cell_type": "code",
   "execution_count": 14,
   "metadata": {},
   "outputs": [
    {
     "data": {
      "text/plain": "Float64"
     },
     "execution_count": 14,
     "metadata": {},
     "output_type": "execute_result"
    }
   ],
   "source": [
    "# select data type to be used on GPU: Float64 or Float32\n",
    "# Float32 tends to be a little faster, but with lower precision\n",
    "const TF = Float64"
   ]
  },
  {
   "cell_type": "code",
   "execution_count": 15,
   "metadata": {},
   "outputs": [
    {
     "name": "stderr",
     "output_type": "stream",
     "text": [
      "WARNING: redefinition of constant data. This may fail, cause incorrect answers, or produce other errors.\n"
     ]
    }
   ],
   "source": [
    "const T = TF(45 + 273.15)  # temperature in Kalvin\n",
    "const data = read_data(joinpath(data_dir, \"Photowatt25.csv\"), TF);"
   ]
  },
  {
   "cell_type": "code",
   "execution_count": 16,
   "metadata": {},
   "outputs": [
    {
     "name": "stderr",
     "output_type": "stream",
     "text": [
      "WARNING: redefinition of constant x_min. This may fail, cause incorrect answers, or produce other errors.\n",
      "WARNING: redefinition of constant x_max. This may fail, cause incorrect answers, or produce other errors.\n"
     ]
    }
   ],
   "source": [
    "const x_min = TF[0, 0,  1,  0, 0]\n",
    "const x_max = TF[2, 50, 50, 2, 2000];"
   ]
  },
  {
   "cell_type": "markdown",
   "metadata": {},
   "source": [
    "## PSO parameters"
   ]
  },
  {
   "cell_type": "code",
   "execution_count": 17,
   "metadata": {},
   "outputs": [
    {
     "name": "stderr",
     "output_type": "stream",
     "text": [
      "WARNING: redefinition of constant patience. This may fail, cause incorrect answers, or produce other errors.\n"
     ]
    }
   ],
   "source": [
    "const w = TF(0.5)\n",
    "const c1 = TF(2.5)\n",
    "const c2 = TF(1.6)\n",
    "const np = 3200\n",
    "const niter = 200\n",
    "const min_delta=TF(1e-10)\n",
    "const patience=20\n",
    "const threads=320  # threads per block in CUDA\n",
    ";"
   ]
  },
  {
   "cell_type": "markdown",
   "metadata": {},
   "source": [
    "## Run PSO\n",
    "- Known best minimum in the literature: 1.47025e-04\n",
    "- Note that the SSE (sum of square error) is minimized, which is equivalent to the minimization of RMSE."
   ]
  },
  {
   "cell_type": "code",
   "execution_count": 18,
   "metadata": {},
   "outputs": [
    {
     "name": "stdout",
     "output_type": "stream",
     "text": [
      "(threads, blocks) = (320, 10)\n",
      "iter      sse       \n",
      "1         3.53067e-01\n",
      "2         6.67135e-02\n",
      "3         5.59075e-02\n",
      "4         1.92983e-02\n",
      "5         6.26158e-04\n",
      "6         6.26158e-04\n",
      "7         6.26158e-04\n",
      "8         4.79236e-04\n",
      "9         4.79236e-04\n",
      "10        4.19409e-04\n",
      "11        2.61674e-04\n",
      "12        2.10869e-04\n",
      "13        2.10869e-04\n",
      "14        1.98435e-04\n",
      "15        1.86805e-04\n",
      "16        1.86805e-04\n",
      "17        1.86805e-04\n",
      "18        1.80344e-04\n",
      "19        1.72771e-04\n",
      "20        1.72771e-04\n",
      "21        1.72771e-04\n",
      "22        1.72738e-04\n",
      "23        1.72738e-04\n",
      "24        1.72738e-04\n",
      "25        1.72738e-04\n",
      "26        1.72715e-04\n",
      "27        1.72715e-04\n",
      "28        1.72715e-04\n",
      "29        1.72713e-04\n",
      "30        1.72713e-04\n",
      "31        1.72713e-04\n",
      "32        1.72713e-04\n",
      "33        1.72694e-04\n",
      "34        1.72602e-04\n",
      "35        1.72511e-04\n",
      "36        1.72419e-04\n",
      "37        1.72285e-04\n",
      "38        1.72103e-04\n",
      "39        1.71876e-04\n",
      "40        1.71446e-04\n",
      "41        1.70873e-04\n",
      "42        1.70083e-04\n",
      "43        1.69247e-04\n",
      "44        1.68278e-04\n",
      "45        1.68012e-04\n",
      "46        1.67991e-04\n",
      "47        1.67972e-04\n",
      "48        1.67603e-04\n",
      "49        1.65766e-04\n",
      "50        1.63401e-04\n",
      "51        1.60139e-04\n",
      "52        1.57868e-04\n",
      "53        1.56651e-04\n",
      "54        1.54154e-04\n",
      "55        1.53279e-04\n",
      "56        1.52515e-04\n",
      "57        1.51992e-04\n",
      "58        1.51003e-04\n",
      "59        1.50152e-04\n",
      "60        1.49223e-04\n",
      "61        1.47976e-04\n",
      "62        1.47547e-04\n",
      "63        1.47313e-04\n",
      "64        1.47229e-04\n",
      "65        1.47228e-04\n",
      "66        1.47155e-04\n",
      "67        1.47149e-04\n",
      "68        1.47129e-04\n",
      "69        1.47104e-04\n",
      "70        1.47074e-04\n",
      "71        1.47056e-04\n",
      "72        1.47040e-04\n",
      "73        1.47028e-04\n",
      "74        1.47027e-04\n",
      "75        1.47026e-04\n",
      "76        1.47026e-04\n",
      "77        1.47025e-04\n",
      "78        1.47025e-04\n",
      "79        1.47025e-04\n",
      "80        1.47025e-04\n",
      "81        1.47025e-04\n",
      "82        1.47025e-04\n",
      "83        1.47025e-04\n",
      "84        1.47025e-04\n",
      "85        1.47025e-04\n",
      "86        1.47025e-04\n",
      "87        1.47025e-04\n",
      "88        1.47025e-04\n",
      "89        1.47025e-04\n",
      "90        1.47025e-04\n",
      "91        1.47025e-04\n",
      "92        1.47025e-04\n",
      "93        1.47025e-04\n",
      "94        1.47025e-04\n",
      "95        1.47025e-04\n",
      "96        1.47025e-04\n",
      "97        1.47025e-04\n",
      "98        1.47025e-04\n",
      "99        1.47025e-04\n",
      "Early stopped at iteration 99\n",
      "  0.021944 seconds (27.76 k allocations: 1.244 MiB)\n"
     ]
    },
    {
     "data": {
      "text/plain": "(sse = 0.00014702470290184583, solution = [1.0305142869508024, 3.4822779706921114, 48.64285148826236, 1.2012705793502625, 981.9853594675723], stopped_iter = 99)"
     },
     "execution_count": 18,
     "metadata": {},
     "output_type": "execute_result"
    }
   ],
   "source": [
    "@time pso(data, T, :SDM, x_min, x_max; niter, np, w, c1, c2, log=true, threads, min_delta, patience)"
   ]
  },
  {
   "cell_type": "markdown",
   "metadata": {},
   "source": [
    "## Measure statistics\n",
    "Run PSO multiple times and record the results. Analyze the results."
   ]
  },
  {
   "cell_type": "code",
   "execution_count": 19,
   "metadata": {},
   "outputs": [
    {
     "data": {
      "text/plain": "Dict{Symbol, Float64} with 4 entries:\n  :max  => 0.00242507\n  :std  => 2.86476e-13\n  :mean => 0.00242507\n  :min  => 0.00242507"
     },
     "execution_count": 19,
     "metadata": {},
     "output_type": "execute_result"
    }
   ],
   "source": [
    "f = () -> pso(data, T, :SDM, x_min, x_max; niter, np, w, c1, c2, log=false, threads, min_delta, patience)\n",
    "measure_RMSE_stats(f, size(data, 2); n_trials=30)"
   ]
  },
  {
   "cell_type": "markdown",
   "metadata": {},
   "source": [
    "## Benchmark the running time\n",
    "Run the PSO multiple times and measure the average running time. [BenchmarkTools.jl](https://github.com/JuliaCI/BenchmarkTools.jl) is a library devoted to benchmarking in the `benchmark` function defined in `utils.jl`.\n",
    "\n",
    "Due to GPU characteristics as well as early stopping, the variance among run time can be fairly high."
   ]
  },
  {
   "cell_type": "code",
   "execution_count": 20,
   "metadata": {},
   "outputs": [
    {
     "data": {
      "text/plain": "BenchmarkTools.Trial: \n  memory estimate:  842.70 KiB\n  allocs estimate:  18317\n  --------------\n  minimum time:     13.845 ms (0.00% GC)\n  median time:      365.801 ms (0.00% GC)\n  mean time:        252.779 ms (0.75% GC)\n  maximum time:     496.661 ms (1.95% GC)\n  --------------\n  samples:          100\n  evals/sample:     1"
     },
     "execution_count": 20,
     "metadata": {},
     "output_type": "execute_result"
    }
   ],
   "source": [
    "benchmark(f; n_trials=100)"
   ]
  },
  {
   "cell_type": "code",
   "execution_count": null,
   "metadata": {},
   "outputs": [],
   "source": []
  }
 ],
 "metadata": {
  "kernelspec": {
   "display_name": "Julia 1.6.0-rc1",
   "language": "julia",
   "name": "julia-1.6"
  },
  "language_info": {
   "file_extension": ".jl",
   "mimetype": "application/julia",
   "name": "julia",
   "version": "1.6.0"
  },
  "orig_nbformat": 2
 },
 "nbformat": 4,
 "nbformat_minor": 2
}