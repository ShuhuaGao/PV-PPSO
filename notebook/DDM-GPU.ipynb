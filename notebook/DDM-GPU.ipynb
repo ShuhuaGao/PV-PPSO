{
 "cells": [
  {
   "cell_type": "markdown",
   "metadata": {},
   "source": [
    "# DDM \n",
    "Double-diode model with the RTFrance dataset."
   ]
  },
  {
   "cell_type": "code",
   "execution_count": 11,
   "metadata": {},
   "outputs": [
    {
     "data": {
      "text/plain": "benchmark (generic function with 1 method)"
     },
     "execution_count": 11,
     "metadata": {},
     "output_type": "execute_result"
    }
   ],
   "source": [
    "using PSO, CUDA, Random\n",
    "\n",
    "const data_dir = \"../data/\"\n",
    "include(\"utils.jl\")"
   ]
  },
  {
   "cell_type": "code",
   "execution_count": 12,
   "metadata": {},
   "outputs": [],
   "source": [
    "# set random seed: for reproduction\n",
    "Random.seed!(CURAND.default_rng(), 123)"
   ]
  },
  {
   "cell_type": "markdown",
   "metadata": {},
   "source": [
    "## Read data and set up search range"
   ]
  },
  {
   "cell_type": "code",
   "execution_count": 13,
   "metadata": {},
   "outputs": [
    {
     "data": {
      "text/plain": "Float64"
     },
     "execution_count": 13,
     "metadata": {},
     "output_type": "execute_result"
    }
   ],
   "source": [
    "# select data type to be used on GPU: Float64 or Float32\n",
    "# Float32 tends to be a little faster, but with lower precision\n",
    "const TF = Float64  "
   ]
  },
  {
   "cell_type": "code",
   "execution_count": 14,
   "metadata": {},
   "outputs": [
    {
     "name": "stderr",
     "output_type": "stream",
     "text": [
      "WARNING: redefinition of constant data. This may fail, cause incorrect answers, or produce other errors.\n"
     ]
    }
   ],
   "source": [
    "const T = TF(33 + 273.15)  # temperature in Kalvin of the RTC France case\n",
    "\n",
    "const data = read_data(joinpath(data_dir, \"RTFrance.csv\"), TF);"
   ]
  },
  {
   "cell_type": "code",
   "execution_count": 15,
   "metadata": {},
   "outputs": [
    {
     "name": "stderr",
     "output_type": "stream",
     "text": [
      "WARNING: redefinition of constant x_min. This may fail, cause incorrect answers, or produce other errors.\n",
      "WARNING: redefinition of constant x_max. This may fail, cause incorrect answers, or produce other errors.\n"
     ]
    }
   ],
   "source": [
    "const x_min = TF[0, 0, 0, 1, 1, 0,   0]\n",
    "const x_max = TF[1, 1, 1, 2, 2, 0.5, 100];"
   ]
  },
  {
   "cell_type": "markdown",
   "metadata": {},
   "source": [
    "## PSO parameters\n"
   ]
  },
  {
   "cell_type": "code",
   "execution_count": 16,
   "metadata": {},
   "outputs": [],
   "source": [
    "const w = TF(0.5)\n",
    "const c1 = TF(2.5)\n",
    "const c2 = TF(1.6)\n",
    "const np = 6400\n",
    "const niter = 400\n",
    "const min_delta=TF(1e-10)\n",
    "const patience=30\n",
    "const threads=640   # threads per block in CUDA\n",
    ";"
   ]
  },
  {
   "cell_type": "markdown",
   "metadata": {},
   "source": [
    "## Run PSO once as an example\n",
    "- Known best minimum in the literature: 2.50972e-05\n",
    "- Note that the SSE (sum of square error) is minimized, which is equivalent to the minimization of RMSE."
   ]
  },
  {
   "cell_type": "code",
   "execution_count": 17,
   "metadata": {},
   "outputs": [
    {
     "name": "stdout",
     "output_type": "stream",
     "text": [
      "(threads, blocks) = (640, 10)\n",
      "iter      sse       \n",
      "1         7.46857e-02\n",
      "2         1.44321e-02\n",
      "3         1.30618e-02\n",
      "4         8.64379e-03\n",
      "5         3.29697e-03\n",
      "6         1.31562e-03\n",
      "7         3.46812e-04\n",
      "8         3.46812e-04\n",
      "9         3.31199e-04\n",
      "10        3.15236e-04\n",
      "11        3.09370e-04\n",
      "12        2.74197e-04\n",
      "13        2.44367e-04\n",
      "14        2.31656e-04\n",
      "15        1.96355e-04\n",
      "16        1.74083e-04\n",
      "17        1.43863e-04\n",
      "18        1.18640e-04\n",
      "19        1.13296e-04\n",
      "20        8.63508e-05\n",
      "21        6.39225e-05\n",
      "22        5.51917e-05\n",
      "23        4.59121e-05\n",
      "24        3.55611e-05\n",
      "25        3.32233e-05\n",
      "26        3.31928e-05\n",
      "27        3.10449e-05\n",
      "28        2.90724e-05\n",
      "29        2.88931e-05\n",
      "30        2.69346e-05\n",
      "31        2.69346e-05\n",
      "32        2.68975e-05\n",
      "33        2.63511e-05\n",
      "34        2.57078e-05\n",
      "35        2.55308e-05\n",
      "36        2.54557e-05\n",
      "37        2.54089e-05\n",
      "38        2.54089e-05\n",
      "39        2.54089e-05\n",
      "40        2.54089e-05\n",
      "41        2.54003e-05\n",
      "42        2.53752e-05\n",
      "43        2.53710e-05\n",
      "44        2.53629e-05\n",
      "45        2.53560e-05\n",
      "46        2.53507e-05\n",
      "47        2.53254e-05\n",
      "48        2.52871e-05\n",
      "49        2.52607e-05\n",
      "50        2.52268e-05\n",
      "51        2.51857e-05\n",
      "52        2.51569e-05\n",
      "53        2.51317e-05\n",
      "54        2.51093e-05\n",
      "55        2.51062e-05\n",
      "56        2.51024e-05\n",
      "57        2.51024e-05\n",
      "58        2.51024e-05\n",
      "59        2.51023e-05\n",
      "60        2.51023e-05\n",
      "61        2.51022e-05\n",
      "62        2.51018e-05\n",
      "63        2.51013e-05\n",
      "64        2.51009e-05\n",
      "65        2.51006e-05\n",
      "66        2.51004e-05\n",
      "67        2.51004e-05\n",
      "68        2.51003e-05\n",
      "69        2.51003e-05\n",
      "70        2.51002e-05\n",
      "71        2.51002e-05\n",
      "72        2.51002e-05\n",
      "73        2.51002e-05\n",
      "74        2.51002e-05\n",
      "75        2.51001e-05\n",
      "76        2.50999e-05\n",
      "77        2.50998e-05\n",
      "78        2.50995e-05\n",
      "79        2.50994e-05\n",
      "80        2.50993e-05\n",
      "81        2.50993e-05\n",
      "82        2.50992e-05\n",
      "83        2.50992e-05\n",
      "84        2.50992e-05\n",
      "85        2.50992e-05\n",
      "86        2.50992e-05\n",
      "87        2.50992e-05\n",
      "88        2.50992e-05\n",
      "89        2.50992e-05\n",
      "90        2.50992e-05\n",
      "91        2.50992e-05\n",
      "92        2.50991e-05\n",
      "93        2.50991e-05\n",
      "94        2.50990e-05\n",
      "95        2.50989e-05\n",
      "96        2.50987e-05\n",
      "97        2.50985e-05\n",
      "98        2.50982e-05\n",
      "99        2.50980e-05\n",
      "100       2.50979e-05\n",
      "101       2.50976e-05\n",
      "102       2.50975e-05\n",
      "103       2.50974e-05\n",
      "104       2.50973e-05\n",
      "105       2.50973e-05\n",
      "106       2.50972e-05\n",
      "107       2.50972e-05\n",
      "108       2.50972e-05\n",
      "109       2.50972e-05\n",
      "110       2.50972e-05\n",
      "111       2.50972e-05\n",
      "112       2.50972e-05\n",
      "113       2.50972e-05\n",
      "114       2.50972e-05\n",
      "115       2.50972e-05\n",
      "116       2.50972e-05\n",
      "117       2.50972e-05\n",
      "118       2.50972e-05\n",
      "119       2.50972e-05\n",
      "120       2.50972e-05\n",
      "121       2.50972e-05\n",
      "122       2.50972e-05\n",
      "123       2.50972e-05\n",
      "124       2.50972e-05\n",
      "125       2.50972e-05\n",
      "126       2.50972e-05\n",
      "127       2.50972e-05\n",
      "128       2.50972e-05\n",
      "129       2.50972e-05\n",
      "130       2.50972e-05\n",
      "131       2.50972e-05\n",
      "132       2.50972e-05\n",
      "133       2.50972e-05\n",
      "Early stopped at iteration 133\n",
      "  0.048098 seconds (36.26 k allocations: 1.625 MiB)\n"
     ]
    },
    {
     "data": {
      "text/plain": "(sse = 2.509718858385086e-5, solution = [0.7607810800699066, 0.7493500426117496, 0.22597396285949586, 1.9999999999473286, 1.4510166534515405, 0.03674043177002697, 55.48542097049508], stopped_iter = 133)"
     },
     "execution_count": 17,
     "metadata": {},
     "output_type": "execute_result"
    }
   ],
   "source": [
    "@time pso(data, T, :DDM, x_min, x_max; niter, np, w, c1, c2, log=true, threads, min_delta, patience)"
   ]
  },
  {
   "cell_type": "markdown",
   "metadata": {},
   "source": [
    "## Measure statistics\n",
    "Run PSO multiple times and record the results. Analyze the results."
   ]
  },
  {
   "cell_type": "code",
   "execution_count": 18,
   "metadata": {},
   "outputs": [
    {
     "data": {
      "text/plain": "Dict{Symbol, Float64} with 4 entries:\n  :max  => 0.000986022\n  :std  => 1.34365e-6\n  :mean => 0.000983227\n  :min  => 0.000982485"
     },
     "execution_count": 18,
     "metadata": {},
     "output_type": "execute_result"
    }
   ],
   "source": [
    "f = () -> pso(data, T, :DDM, x_min, x_max; niter, np, w, c1, c2, log=false, threads, min_delta, patience)\n",
    "measure_RMSE_stats(f, size(data, 2); n_trials=30)"
   ]
  },
  {
   "cell_type": "markdown",
   "metadata": {},
   "source": [
    "## Benchmark the running time\n",
    "Run the PSO multiple times and measure the average running time. [BenchmarkTools.jl](https://github.com/JuliaCI/BenchmarkTools.jl) is a library devoted to benchmarking in the `benchmark` function defined in `utils.jl`.\n",
    "\n",
    "Due to GPU characteristics as well as early stopping, the variance among run time can be fairly high."
   ]
  },
  {
   "cell_type": "code",
   "execution_count": 20,
   "metadata": {},
   "outputs": [
    {
     "data": {
      "text/plain": "BenchmarkTools.Trial: \n  memory estimate:  956.65 KiB\n  allocs estimate:  21247\n  --------------\n  minimum time:     23.713 ms (0.00% GC)\n  median time:      219.493 ms (0.00% GC)\n  mean time:        258.518 ms (0.72% GC)\n  maximum time:     669.978 ms (1.53% GC)\n  --------------\n  samples:          100\n  evals/sample:     1"
     },
     "execution_count": 20,
     "metadata": {},
     "output_type": "execute_result"
    }
   ],
   "source": [
    "benchmark(f; n_trials=100)"
   ]
  },
  {
   "cell_type": "code",
   "execution_count": null,
   "metadata": {},
   "outputs": [],
   "source": []
  }
 ],
 "metadata": {
  "kernelspec": {
   "display_name": "Julia 1.6.0-rc1",
   "language": "julia",
   "name": "julia-1.6"
  },
  "language_info": {
   "file_extension": ".jl",
   "mimetype": "application/julia",
   "name": "julia",
   "version": "1.6.0"
  },
  "orig_nbformat": 2
 },
 "nbformat": 4,
 "nbformat_minor": 2
}