{
 "cells": [
  {
   "cell_type": "markdown",
   "metadata": {},
   "source": [
    "# SDM + RT\n",
    "Single-diode model with the RTFrance dataset."
   ]
  },
  {
   "cell_type": "code",
   "execution_count": 11,
   "metadata": {},
   "outputs": [],
   "source": [
    "# using Plots\n",
    "using PSO\n",
    "using CUDA, Random"
   ]
  },
  {
   "cell_type": "code",
   "execution_count": 12,
   "metadata": {},
   "outputs": [
    {
     "data": {
      "text/plain": "benchmark (generic function with 1 method)"
     },
     "execution_count": 12,
     "metadata": {},
     "output_type": "execute_result"
    }
   ],
   "source": [
    "const data_dir = \"../data/\"\n",
    "include(\"utils.jl\")"
   ]
  },
  {
   "cell_type": "code",
   "execution_count": 13,
   "metadata": {},
   "outputs": [],
   "source": [
    "# set random seed: for reproduction\n",
    "Random.seed!(CURAND.default_rng(), 123)"
   ]
  },
  {
   "cell_type": "markdown",
   "metadata": {},
   "source": [
    "## Read data and set up search range"
   ]
  },
  {
   "cell_type": "code",
   "execution_count": 14,
   "metadata": {},
   "outputs": [
    {
     "data": {
      "text/plain": "Float64"
     },
     "execution_count": 14,
     "metadata": {},
     "output_type": "execute_result"
    }
   ],
   "source": [
    "# select data type to be used on GPU: Float64 or Float32\n",
    "# Float32 tends to be a little faster, but with lower precision\n",
    "const TF = Float64"
   ]
  },
  {
   "cell_type": "code",
   "execution_count": 15,
   "metadata": {},
   "outputs": [
    {
     "name": "stderr",
     "output_type": "stream",
     "text": [
      "WARNING: redefinition of constant data. This may fail, cause incorrect answers, or produce other errors.\n"
     ]
    }
   ],
   "source": [
    "const T = TF(33 + 273.15)  # temperature in Kalvin of the RTC France case\n",
    "const data = read_data(joinpath(data_dir, \"RTFrance.csv\"), TF);"
   ]
  },
  {
   "cell_type": "code",
   "execution_count": 16,
   "metadata": {},
   "outputs": [
    {
     "name": "stderr",
     "output_type": "stream",
     "text": [
      "WARNING: redefinition of constant x_min. This may fail, cause incorrect answers, or produce other errors.\n",
      "WARNING: redefinition of constant x_max. This may fail, cause incorrect answers, or produce other errors.\n"
     ]
    }
   ],
   "source": [
    "const x_min = TF[0, 0, 1, 0, 0];\n",
    "const x_max = TF[1, 1, 2, 0.5, 100];"
   ]
  },
  {
   "cell_type": "markdown",
   "metadata": {},
   "source": [
    "## PSO parameters"
   ]
  },
  {
   "cell_type": "code",
   "execution_count": 17,
   "metadata": {},
   "outputs": [],
   "source": [
    "const w = TF(0.5)\n",
    "const c1 = TF(2.5)\n",
    "const c2 = TF(1.6)\n",
    "const np = 3200\n",
    "const niter = 200\n",
    "const min_delta=TF(1e-10)\n",
    "const patience=20\n",
    "const threads=320  # threads per block in CUDA\n",
    ";"
   ]
  },
  {
   "cell_type": "markdown",
   "metadata": {},
   "source": [
    "## Run PSO\n",
    "SomceSS- Known best minimum in the literature: 2.52782e-05\n",
    "- Note that the SSE (sum of square error) is minimized, which is equivalent to the minimization of RMSE."
   ]
  },
  {
   "cell_type": "code",
   "execution_count": 18,
   "metadata": {},
   "outputs": [
    {
     "name": "stdout",
     "output_type": "stream",
     "text": [
      "(threads, blocks) = (320, 10)\n",
      "iter      sse       \n",
      "1         6.61115e-02\n",
      "2         1.53647e-02\n",
      "3         1.17939e-02\n",
      "4         5.04713e-03\n",
      "5         5.04713e-03\n",
      "6         3.45385e-03\n",
      "7         7.39331e-04\n",
      "8         6.65664e-04\n",
      "9         5.06939e-04\n",
      "10        3.37846e-04\n",
      "11        3.35368e-04\n",
      "12        2.16294e-04\n",
      "13        2.16294e-04\n",
      "14        1.99893e-04\n",
      "15        1.99893e-04\n",
      "16        1.74015e-04\n",
      "17        1.73981e-04\n",
      "18        1.39226e-04\n",
      "19        1.22713e-04\n",
      "20        1.18612e-04\n",
      "21        1.14527e-04\n",
      "22        1.14102e-04\n",
      "23        1.06217e-04\n",
      "24        9.98422e-05\n",
      "25        9.01607e-05\n",
      "26        8.39129e-05\n",
      "27        8.01119e-05\n",
      "28        7.02107e-05\n",
      "29        6.70242e-05\n",
      "30        6.44180e-05\n",
      "31        6.18070e-05\n",
      "32        5.86682e-05\n",
      "33        5.54364e-05\n",
      "34        5.19834e-05\n",
      "35        5.16524e-05\n",
      "36        5.04792e-05\n",
      "37        5.03066e-05\n",
      "38        4.96261e-05\n",
      "39        4.65912e-05\n",
      "40        4.55448e-05\n",
      "41        4.06615e-05\n",
      "42        3.83983e-05\n",
      "43        3.39181e-05\n",
      "44        2.74325e-05\n",
      "45        2.62007e-05\n",
      "46        2.61878e-05\n",
      "47        2.59091e-05\n",
      "48        2.58246e-05\n",
      "49        2.58246e-05\n",
      "50        2.57411e-05\n",
      "51        2.57334e-05\n",
      "52        2.57055e-05\n",
      "53        2.56782e-05\n",
      "54        2.56274e-05\n",
      "55        2.55988e-05\n",
      "56        2.55775e-05\n",
      "57        2.55773e-05\n",
      "58        2.55196e-05\n",
      "59        2.55017e-05\n",
      "60        2.54504e-05\n",
      "61        2.54169e-05\n",
      "62        2.53900e-05\n",
      "63        2.53744e-05\n",
      "64        2.53525e-05\n",
      "65        2.53331e-05\n",
      "66        2.53279e-05\n",
      "67        2.53076e-05\n",
      "68        2.52948e-05\n",
      "69        2.52913e-05\n",
      "70        2.52873e-05\n",
      "71        2.52805e-05\n",
      "72        2.52791e-05\n",
      "73        2.52790e-05\n",
      "74        2.52786e-05\n",
      "75        2.52786e-05\n",
      "76        2.52784e-05\n",
      "77        2.52783e-05\n",
      "78        2.52782e-05\n",
      "79        2.52782e-05\n",
      "80        2.52782e-05\n",
      "81        2.52782e-05\n",
      "82        2.52782e-05\n",
      "83        2.52782e-05\n",
      "84        2.52782e-05\n",
      "85        2.52782e-05\n",
      "86        2.52782e-05\n",
      "87        2.52782e-05\n",
      "88        2.52782e-05\n",
      "89        2.52782e-05\n",
      "90        2.52782e-05\n",
      "91        2.52782e-05\n",
      "92        2.52782e-05\n",
      "93        2.52782e-05\n",
      "94        2.52782e-05\n",
      "95        2.52782e-05\n",
      "96        2.52782e-05\n",
      "97        2.52782e-05\n",
      "98        2.52782e-05\n",
      "Early stopped at iteration 98\n",
      "  0.020733 seconds (25.63 k allocations: 1.155 MiB)\n"
     ]
    },
    {
     "data": {
      "text/plain": "(sse = 2.527821774171829e-5, solution = [0.7607755457336648, 0.32301921022163566, 1.4811830947516174, 0.03637711347267447, 53.718296454145204], stopped_iter = 98)"
     },
     "execution_count": 18,
     "metadata": {},
     "output_type": "execute_result"
    }
   ],
   "source": [
    "# the time here may be much longer due to the JIT compile of Julia at the first fun of a function, but \n",
    "# much faster in subsequent runs.\n",
    "@time pso(data, T, :SDM, x_min, x_max; niter, np, w, c1, c2, log=true, threads, min_delta, patience)"
   ]
  },
  {
   "cell_type": "markdown",
   "metadata": {},
   "source": [
    "## Measure statistics\n",
    "Run PSO multiple times and record the results. Analyze the results."
   ]
  },
  {
   "cell_type": "code",
   "execution_count": 19,
   "metadata": {},
   "outputs": [
    {
     "data": {
      "text/plain": "Dict{Symbol, Float64} with 4 entries:\n  :max  => 0.000986022\n  :std  => 7.07982e-13\n  :mean => 0.000986022\n  :min  => 0.000986022"
     },
     "execution_count": 19,
     "metadata": {},
     "output_type": "execute_result"
    }
   ],
   "source": [
    "f = () -> pso(data, T, :SDM, x_min, x_max; niter, np, w, c1, c2, log=false, threads, min_delta, patience)\n",
    "measure_RMSE_stats(f, size(data, 2); n_trials=30)"
   ]
  },
  {
   "cell_type": "markdown",
   "metadata": {},
   "source": [
    "## Benchmark the running time\n",
    "Run the PSO multiple times and measure the average running time. [BenchmarkTools.jl](https://github.com/JuliaCI/BenchmarkTools.jl) is a library devoted to benchmarking in the `benchmark` function defined in `utils.jl`.\n",
    "\n",
    "Due to GPU characteristics as well as early stopping, the variance among run time can be fairly high."
   ]
  },
  {
   "cell_type": "code",
   "execution_count": 20,
   "metadata": {},
   "outputs": [
    {
     "data": {
      "text/plain": "BenchmarkTools.Trial: \n  memory estimate:  764.94 KiB\n  allocs estimate:  16630\n  --------------\n  minimum time:     12.961 ms (0.00% GC)\n  median time:      366.476 ms (0.00% GC)\n  mean time:        235.497 ms (0.69% GC)\n  maximum time:     490.802 ms (0.00% GC)\n  --------------\n  samples:          100\n  evals/sample:     1"
     },
     "execution_count": 20,
     "metadata": {},
     "output_type": "execute_result"
    }
   ],
   "source": [
    "benchmark(f; n_trials=100)"
   ]
  }
 ],
 "metadata": {
  "kernelspec": {
   "display_name": "Julia 1.6.0-rc1",
   "language": "julia",
   "name": "julia-1.6"
  },
  "language_info": {
   "file_extension": ".jl",
   "mimetype": "application/julia",
   "name": "julia",
   "version": "1.6.0"
  },
  "orig_nbformat": 2
 },
 "nbformat": 4,
 "nbformat_minor": 2
}